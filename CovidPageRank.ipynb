{
  "cells": [
    {
      "cell_type": "markdown",
      "metadata": {
        "id": "view-in-github",
        "colab_type": "text"
      },
      "source": [
        "<a href=\"https://colab.research.google.com/github/andiub97/CovidPubRank/blob/master/CovidPageRank.ipynb\" target=\"_parent\"><img src=\"https://colab.research.google.com/assets/colab-badge.svg\" alt=\"Open In Colab\"/></a>"
      ]
    },
    {
      "cell_type": "markdown",
      "metadata": {
        "id": "NAM6vyXAfVUj"
      },
      "source": [
        "# Page Ranking Algorithms on Google Cloud Dataproc\n",
        "\n",
        "- Use the [Cloud Resource Manager](https://cloud.google.com/resource-manager) to create a project if you do not already have one.\n",
        "- Enable Dataproc and Cloud Storage services for the project \n",
        "- [Enable billing](https://support.google.com/cloud/answer/6293499#enable-billing) for the project.\n",
        "- See [Google Cloud Storage (GCS) Documentation](https://cloud.google.com/storage/) for more info.\n"
      ]
    },
    {
      "cell_type": "markdown",
      "source": [
        "## Set Environment variables(optional) \n",
        "Here you can choose if install colab-env dependency and allow Google Drive to access to your Drive and create environment file containing enviroment variables that you can choose for all later tasks involving bucket, cluster properties and so on."
      ],
      "metadata": {
        "id": "rl2goHQ9bGwk"
      }
    },
    {
      "cell_type": "code",
      "source": [
        "!pip install colab-env --upgrade"
      ],
      "metadata": {
        "id": "A5P4toB-jEy0"
      },
      "execution_count": null,
      "outputs": []
    },
    {
      "cell_type": "code",
      "source": [
        "import colab_env\n",
        "\n",
        "colab_env.envvar_handler.add_env(\"GOOGLE_PROJECT_ID\", \"insert_project_name\", overwrite=True)\n",
        "colab_env.envvar_handler.add_env(\"CITATIONS_BUCKET\", \"insert_citations_bucket_name\", overwrite=True)\n",
        "colab_env.envvar_handler.add_env(\"OUTPUT_BUCKET\", \"insert_output_bucket_name\", overwrite=True)\n",
        "colab_env.envvar_handler.add_env(\"CLUSTER_REGION\", \"insert_region\", overwrite=True)\n",
        "colab_env.envvar_handler.add_env(\"CLUSTER_ZONE\", \"insert_zone\", overwrite=True)\n",
        "colab_env.envvar_handler.add_env(\"CLUSTER_MACHINES_TYPE\", \"insert_machine_type\", overwrite=True)\n",
        "\n",
        "!more gdrive/My\\ Drive/vars.env"
      ],
      "metadata": {
        "id": "4OxcKWUsn9Qn"
      },
      "execution_count": null,
      "outputs": []
    },
    {
      "cell_type": "markdown",
      "source": [
        "## Allow Google Cloud access to the notebook and set GC project for this session"
      ],
      "metadata": {
        "id": "G3Q0bQ5Xc60Q"
      }
    },
    {
      "cell_type": "code",
      "execution_count": null,
      "metadata": {
        "id": "LADpx7LReOMk"
      },
      "outputs": [],
      "source": [
        "import os\n",
        "from google.colab import auth\n",
        "auth.authenticate_user()\n",
        "\n",
        "project_id = os.getenv(\"GOOGLE_PROJECT_ID\")\n",
        "!gcloud config set project {project_id}"
      ]
    },
    {
      "cell_type": "markdown",
      "source": [
        "## Clone CovidPubRank repo from Github, unzip citation archive and move files to \"citations\" folder "
      ],
      "metadata": {
        "id": "h9smrQv5Bj6S"
      }
    },
    {
      "cell_type": "code",
      "source": [
        "import tarfile\n",
        "!git clone https://github.com/andiub97/CovidPubRank.git\n",
        "\n",
        "tar = tarfile.open(\"./CovidPubRank/data/citations.tar.gz\")\n",
        "tar.extractall()\n",
        "tar.close()\n",
        "\n",
        "!mkdir ./sample_data/citations\n",
        "!mv ./citations_1.txt ./sample_data/citations\n",
        "!mv ./citations_10.txt ./sample_data/citations\n",
        "!mv ./citations_50.txt ./sample_data/citations\n",
        "!mv ./citations_100.txt ./sample_data/citations"
      ],
      "metadata": {
        "id": "-TpHyo0EBkOw"
      },
      "execution_count": null,
      "outputs": []
    },
    {
      "cell_type": "markdown",
      "source": [
        "## Create buckets and load datasets into them\n",
        "remember create a bucket for jar file and upload it using GCP Graphic Interface or shell, but we suggest using Google Cloud CLI by your machine"
      ],
      "metadata": {
        "id": "oWnhIirNq0ft"
      }
    },
    {
      "cell_type": "code",
      "execution_count": null,
      "metadata": {
        "id": "f8LMNz9SR0Iz",
        "colab": {
          "base_uri": "https://localhost:8080/"
        },
        "outputId": "b13b9e99-c244-4a38-b84d-506ee57638d2"
      },
      "outputs": [
        {
          "output_type": "stream",
          "name": "stdout",
          "text": [
            "Creating gs://colab-citations-bucket/...\n",
            "Copying file://./sample_data/citations/citations_100.txt [Content-Type=text/plain]...\n",
            "/ [1 files][  1.4 MiB/  1.4 MiB]                                                \n",
            "Operation completed over 1 objects/1.4 MiB.                                      \n",
            "Copying file://./sample_data/citations/citations_50.txt [Content-Type=text/plain]...\n",
            "-\n",
            "Operation completed over 1 objects/2.3 MiB.                                      \n",
            "Copying file://./sample_data/citations/citations_10.txt [Content-Type=text/plain]...\n",
            "-\n",
            "Operation completed over 1 objects/6.5 MiB.                                      \n",
            "Copying file://./sample_data/citations/citations_1.txt [Content-Type=text/plain]...\n",
            "|\n",
            "Operation completed over 1 objects/125.3 MiB.                                    \n"
          ]
        }
      ],
      "source": [
        "bucket_name = os.getenv(\"CITATIONS_BUCKET\")\n",
        "\n",
        "!gsutil mb -l us-central1 -b on gs://{bucket_name}\n",
        "\n",
        "# Copy files to new bucket.\n",
        "!gsutil cp ./sample_data/citations/citations_100.txt gs://{bucket_name}/\n",
        "!gsutil cp ./sample_data/citations/citations_50.txt gs://{bucket_name}/\n",
        "!gsutil cp ./sample_data/citations/citations_10.txt gs://{bucket_name}/\n",
        "!gsutil cp ./sample_data/citations/citations_1.txt gs://{bucket_name}/"
      ]
    },
    {
      "cell_type": "markdown",
      "source": [
        "## Create output bucket"
      ],
      "metadata": {
        "id": "joeHd_6xlFYp"
      }
    },
    {
      "cell_type": "code",
      "source": [
        "output_bucket_name = os.getenv(\"OUTPUT_BUCKET\")\n",
        "!gsutil mb -l us-central1 -b on gs://{output_bucket_name}"
      ],
      "metadata": {
        "id": "-frvJ8Yck73c",
        "colab": {
          "base_uri": "https://localhost:8080/"
        },
        "outputId": "59d5e8dc-b007-4f1f-a1ef-be83e6410e33"
      },
      "execution_count": null,
      "outputs": [
        {
          "output_type": "stream",
          "name": "stdout",
          "text": [
            "Creating gs://ranking_output_bucket/...\n",
            "ServiceException: 409 A Cloud Storage bucket named 'ranking_output_bucket' already exists. Try another name. Bucket names must be globally unique across all Google Cloud projects, including those outside of your organization.\n"
          ]
        }
      ]
    },
    {
      "cell_type": "markdown",
      "source": [
        "# Weak Scalability \n",
        "perform all algorithms on same cluster varying in dataset size"
      ],
      "metadata": {
        "id": "dGeuyUSetuHj"
      }
    },
    {
      "cell_type": "markdown",
      "source": [
        "## Create single node cluster"
      ],
      "metadata": {
        "id": "PBtG5xoRn1fW"
      }
    },
    {
      "cell_type": "code",
      "source": [
        "region = os.getenv(\"CLUSTER_REGION\")\n",
        "zone = os.getenv(\"CLUSTER_ZONE\")\n",
        "!gcloud dataproc clusters create single-node-cluster \\\n",
        "  --region {region} \\\n",
        "  --zone {zone} \\\n",
        "  --single-node "
      ],
      "metadata": {
        "id": "K1k9UtnlORQ-"
      },
      "execution_count": null,
      "outputs": []
    },
    {
      "cell_type": "markdown",
      "source": [
        "## Send Dataproc jobs to single-node cluster for all datasets"
      ],
      "metadata": {
        "id": "ZtOdnUccBa2H"
      }
    },
    {
      "cell_type": "code",
      "source": [
        "!gcloud dataproc jobs submit spark \\\n",
        "    --cluster=single-node-cluster \\\n",
        "    --region={os.getenv(\"CLUSTER_REGION\")} \\\n",
        "    --jar=gs://covid_program/covidpubrank_2.12-0.1.0-SNAPSHOT.jar \\\n",
        "    -- \"single-node\" \"allAlgorithms\" \"gs://\"+ {os.getenv(\"CITATIONS_BUCKET\")} +\"/citations_500.txt\" \"gs://\" + {os.getenv(\"OUTPUT_BUCKET\")} + \"/single-node/distributed\""
      ],
      "metadata": {
        "id": "dVfeGTQgMuyl"
      },
      "execution_count": null,
      "outputs": []
    },
    {
      "cell_type": "code",
      "source": [
        "!gcloud dataproc jobs submit spark \\\n",
        "    --cluster=single-node-cluster \\\n",
        "    --region={os.getenv(\"CLUSTER_REGION\")} \\\n",
        "    --jar=gs://covid_program/covidpubrank_2.12-0.1.0-SNAPSHOT.jar \\\n",
        "    -- \"single-node\" \"allAlgorithms\" \"gs://\"+ {os.getenv(\"CITATIONS_BUCKET\")} + \"/citations_100.txt\" \"gs://\" + {os.getenv(\"OUTPUT_BUCKET\")} +\"/single-node/notDistributed\""
      ],
      "metadata": {
        "id": "LX4E6XClzOyI"
      },
      "execution_count": null,
      "outputs": []
    },
    {
      "cell_type": "code",
      "source": [
        "!gcloud dataproc jobs submit spark \\\n",
        "    --cluster=single-node-cluster \\\n",
        "    --region={os.getenv(\"CLUSTER_REGION\")} \\\n",
        "    --jar=gs://covid_program/covidpubrank_2.12-0.1.0-SNAPSHOT.jar \\\n",
        "    -- \"single-node\" \"allAlgorithms\" \"gs://\"+ {os.getenv(\"CITATIONS_BUCKET\")} +\"/citations_50.txt\" \"gs://\" + {os.getenv(\"OUTPUT_BUCKET\")} +\"/single-node/notDistributed\""
      ],
      "metadata": {
        "id": "-CZI9CYPzWkM"
      },
      "execution_count": null,
      "outputs": []
    },
    {
      "cell_type": "code",
      "source": [
        "!gcloud dataproc jobs submit spark \\\n",
        "    --cluster=single-node-cluster \\\n",
        "    --region={os.getenv(\"CLUSTER_REGION\")} \\\n",
        "    --jar=gs://covid_program/covidpubrank_2.12-0.1.0-SNAPSHOT.jar \\\n",
        "    -- \"single-node\" \"allAlgorithms\" \"gs://\"+ {os.getenv(\"CITATIONS_BUCKET\")} + \"/citations_10.txt\" \"gs://\" + {os.getenv(\"OUTPUT_BUCKET\")} + \"/output1\""
      ],
      "metadata": {
        "id": "BYhQ5oyN9ZU-"
      },
      "execution_count": null,
      "outputs": []
    },
    {
      "cell_type": "markdown",
      "source": [
        "## Delete cluster"
      ],
      "metadata": {
        "id": "-_SA-f6Jt0hr"
      }
    },
    {
      "cell_type": "code",
      "source": [
        "!gcloud dataproc clusters delete single-node-cluster \\\n",
        "    --region={os.getenv(\"CLUSTER_REGION\")}"
      ],
      "metadata": {
        "id": "jx5e1dZTOf7q"
      },
      "execution_count": null,
      "outputs": []
    },
    {
      "cell_type": "markdown",
      "source": [
        "### Get jobs list and delete job specifying its id"
      ],
      "metadata": {
        "id": "yUo2qNw7hy4_"
      }
    },
    {
      "cell_type": "code",
      "source": [
        "!gcloud dataproc jobs list\n",
        "!gcloud dataproc jobs delete \"insert job_id you want delete\""
      ],
      "metadata": {
        "id": "uUBdiS_fhyEa"
      },
      "execution_count": null,
      "outputs": []
    },
    {
      "cell_type": "markdown",
      "source": [
        "# Strong scalability\n",
        "perform all algorithms on same dataset varying number of workers per cluster"
      ],
      "metadata": {
        "id": "ZAR03op7MCaI"
      }
    },
    {
      "cell_type": "markdown",
      "source": [
        "## Create 2-workers cluster"
      ],
      "metadata": {
        "id": "l6af6shLoWYz"
      }
    },
    {
      "cell_type": "code",
      "source": [
        "!gcloud dataproc clusters create 2workers-cluster \\\n",
        "  --region {os.getenv(\"CLUSTER_REGION\")} \\\n",
        "  --zone {os.getenv(\"CLUSTER_ZONE\")} \\\n",
        "  --master-machine-type {os.getenv(\"MACHINES_TYPE\")}\\\n",
        "  --master-boot-disk-size {os.getenv(\"MACHINES_TYPE\")} \\\n",
        "  --worker-machine-type {os.getenv(\"MACHINES_TYPE\")} \\\n",
        "  --num-workers 2 \\\n",
        "  --worker-boot-disk-size {os.getenv(\"MACHINES_TYPE\")}"
      ],
      "metadata": {
        "id": "1co1S-AQNczk"
      },
      "execution_count": null,
      "outputs": []
    },
    {
      "cell_type": "markdown",
      "source": [
        "## Send Dataproc jobs to 2-node cluster for \"citations_1.txt\" dataset"
      ],
      "metadata": {
        "id": "CDox9xeOBq1_"
      }
    },
    {
      "cell_type": "code",
      "source": [
        "!gcloud dataproc jobs submit spark \\\n",
        "    --cluster=2workers-cluster \\\n",
        "    --region={os.getenv(\"CLUSTER_REGION\")} \\\n",
        "    --jar=gs://covid_program/covidpubrank_2.12-0.1.0-SNAPSHOT.jar \\\n",
        "    -- \"2-worker\" \"DistributedAlgorithms\" \"gs://\"+ {os.getenv(\"CITATIONS_BUCKET\")} +\"/citations_1.txt\" \"gs://\" + {os.getenv(\"OUTPUT_BUCKET\")} + \"/2workers/distributed\""
      ],
      "metadata": {
        "id": "DHZ2iol7NMsR"
      },
      "execution_count": null,
      "outputs": []
    },
    {
      "cell_type": "markdown",
      "source": [
        "### Delete cluster"
      ],
      "metadata": {
        "id": "mZF8ijj_Or6l"
      }
    },
    {
      "cell_type": "code",
      "source": [
        "!gcloud dataproc clusters delete 2workers-cluster \\\n",
        "    --region={os.getenv(\"CLUSTER_REGION\")}"
      ],
      "metadata": {
        "id": "fMKvkvnlOrUS"
      },
      "execution_count": null,
      "outputs": []
    },
    {
      "cell_type": "markdown",
      "source": [
        "### Get jobs list and delete job specifying its id"
      ],
      "metadata": {
        "id": "mp7uNpUQh5b6"
      }
    },
    {
      "cell_type": "code",
      "source": [
        "!gcloud dataproc jobs list\n",
        "!gcloud dataproc jobs delete job_id     "
      ],
      "metadata": {
        "id": "n2KZVISJh6X5"
      },
      "execution_count": null,
      "outputs": []
    },
    {
      "cell_type": "markdown",
      "source": [
        "## Create 4-workers cluster"
      ],
      "metadata": {
        "id": "5nTHKPDLogD-"
      }
    },
    {
      "cell_type": "code",
      "source": [
        "!gcloud dataproc clusters create 4workers-cluster \\\n",
        "  --region {os.getenv(\"CLUSTER_REGION\")} \\\n",
        "  --zone {os.getenv(\"CLUSTER_ZONE\")} \\\n",
        "  --master-machine-type {os.getenv(\"MACHINES_TYPE\")} \\\n",
        "  --master-boot-disk-size {os.getenv(\"MACHINE_DISK\")} \\\n",
        "  --worker-machine-type {os.getenv(\"MACHINES_TYPE\")} \\\n",
        "  --num-workers 4 \\\n",
        "  --worker-boot-disk-size {os.getenv(\"MACHINES_TYPE\")}"
      ],
      "metadata": {
        "id": "e1gfySgoPAFw"
      },
      "execution_count": null,
      "outputs": []
    },
    {
      "cell_type": "markdown",
      "source": [
        "## Send Dataproc jobs to 4-node cluster for \"citations_1.txt\" dataset"
      ],
      "metadata": {
        "id": "UNanDhvENJsY"
      }
    },
    {
      "cell_type": "code",
      "source": [
        "!gcloud dataproc jobs submit spark \\\n",
        "    --cluster=4workers-cluster \\\n",
        "    --region={os.getenv(\"CLUSTER_REGION\")} \\\n",
        "    --jar=gs://covid_program/covidpubrank_2.12-0.1.0-SNAPSHOT.jar \\\n",
        "    -- \"4-worker\" \"DistributedAlgorithms\" \"gs://\"+ {os.getenv(\"CITATIONS_BUCKET\")} +\"/citations_1.txt\" \"gs://\" + {os.getenv(\"OUTPUT_BUCKET\")} + \"/4workers/distributed\""
      ],
      "metadata": {
        "id": "LvQqWqh2O0u_"
      },
      "execution_count": null,
      "outputs": []
    },
    {
      "cell_type": "markdown",
      "source": [
        "### Delete cluster"
      ],
      "metadata": {
        "id": "cPOebsqnQ7jE"
      }
    },
    {
      "cell_type": "code",
      "source": [
        "!gcloud dataproc clusters delete 4workers-cluster \\\n",
        "    --region={os.getenv(\"CLUSTER_REGION\")}"
      ],
      "metadata": {
        "id": "TENg3A1hMeRR"
      },
      "execution_count": null,
      "outputs": []
    },
    {
      "cell_type": "markdown",
      "source": [
        "### Get jobs list and delete job specifying its id"
      ],
      "metadata": {
        "id": "ivPFG6sNSNSE"
      }
    },
    {
      "cell_type": "code",
      "source": [
        "!gcloud dataproc jobs list\n",
        "!gcloud dataproc jobs delete job_id"
      ],
      "metadata": {
        "id": "Yt3t9B_vSSIx"
      },
      "execution_count": null,
      "outputs": []
    },
    {
      "cell_type": "markdown",
      "source": [
        "## Get job execution output, in other words get ranking algorithms' execution time and plot them"
      ],
      "metadata": {
        "id": "rwlbBc0zt30Z"
      }
    },
    {
      "cell_type": "code",
      "source": [
        "# Create output directory\n",
        "mkdir ./sample_data/output\n",
        "\n",
        "# Download the file from a given Google Cloud Storage bucket.\n",
        "!gsutil cp gs://ranking_output_bucket/ ./sample_data/output"
      ],
      "metadata": {
        "id": "Z533U7Q_L2vS"
      },
      "execution_count": null,
      "outputs": []
    },
    {
      "cell_type": "markdown",
      "source": [
        "## Plot execution time of algorithms"
      ],
      "metadata": {
        "id": "rJ4FRSC-snJm"
      }
    },
    {
      "cell_type": "code",
      "source": [
        "import numpy as np\n",
        "import matplotlib.pyplot as plt                                                \n",
        "\n",
        "names = []\n",
        "times = []\n",
        "dataset_name = []\n",
        "chars = \"()\\n\"\n",
        "\n",
        "results1 = {'citations_500.txt': {\n",
        "       'ranking.DistributedPageRank': '0.0',\n",
        "       'ranking.ParallelPageRankLibrary': '0.0',\n",
        "       'ranking.PageRank':'0.0',\n",
        "       'ranking.PageRankLibrary':'0.0'\n",
        "   },\n",
        "   'citations_100.txt': {\n",
        "       'ranking.DistributedPageRank': '0.0',\n",
        "       'ranking.ParallelPageRankLibrary': '0.0',\n",
        "       'ranking.PageRank':'0.0',\n",
        "       'ranking.PageRankLibrary':'0.0'\n",
        "   },\n",
        "   'citations_50.txt': {\n",
        "       'ranking.DistributedPageRank': '0.0',\n",
        "       'ranking.ParallelPageRankLibrary': '0.0',\n",
        "       'ranking.PageRank':'0.0',\n",
        "       'ranking.PageRankLibrary':'0.0'\n",
        "   },\n",
        "   'citations_1.txt': {\n",
        "       'ranking.DistributedPageRank': '0.0',\n",
        "       'ranking.ParallelPageRankLibrary': '0.0',\n",
        "       'ranking.PageRank':'0.0',\n",
        "       'ranking.PageRankLibrary':'0.0'\n",
        "   }\n",
        "}\n",
        "\n",
        "f = open('/content/sample_data/Algorithm.txt','r')\n",
        "\n",
        "for row in f:\n",
        "    for c in chars:\n",
        "        row = row.replace(c,\"\")\n",
        "    for c in \",\":\n",
        "        row = row.replace(c,\" \")\n",
        "    row = row.split(' ')\n",
        "    if (\"citations_500.txt\" == row[2]):\n",
        "      results1[\"citations_500.txt\"][row[0]] = (row[1])\n",
        "    if (\"citations_100.txt\" == row[2]):\n",
        "      results1[\"citations_100.txt\"][row[0]] = (row[1])\n",
        "    if (\"citations_50.txt\" == row[2]):\n",
        "      results1[\"citations_50.txt\"][row[0]] = (row[1])    \n",
        "    if (\"citations_1.txt\" == row[2]):\n",
        "      results1[\"citations_1.txt\"][row[0]] = (row[1])\n",
        "\n",
        "# set width of bar\n",
        "barWidth = 0.1\n",
        "fig = plt.subplots(figsize =(16, 9))\n",
        "\n",
        "# set height of bar\n",
        "citations_500 = []\n",
        "for i in results1[\"citations_500.txt\"]:\n",
        "    citations_500.append(float(results1[\"citations_500.txt\"][i]))\n",
        "\n",
        "citations_100 = []\n",
        "for i in results1[\"citations_100.txt\"]:\n",
        "    citations_100.append(float(results1[\"citations_100.txt\"][i]))\n",
        "\n",
        "citations_50 = []\n",
        "for i in results1[\"citations_50.txt\"]:\n",
        "    citations_50.append(float(results1[\"citations_50.txt\"][i]))\n",
        "\n",
        "citations_1 = []\n",
        "for i in results1[\"citations_1.txt\"]:\n",
        "    citations_1.append(float(results1[\"citations_1.txt\"][i]))\n",
        "\n",
        "# Set position of bar on X axis\n",
        "br1 = np.arange(len(citations_500))\n",
        "br2 = [x + barWidth for x in br1]\n",
        "br3 = [x + barWidth for x in br2]\n",
        "br4 = [x + barWidth for x in br3]\n",
        "\n",
        "# Make the plot\n",
        "plt.bar(br1, citations_500, color ='r', width = barWidth,\n",
        "\t\tedgecolor ='grey', label ='citations_500.txt')\n",
        "\n",
        "plt.bar(br2, citations_100, color ='g', width = barWidth,\n",
        "\t\tedgecolor ='grey', label ='citations_100.txt')\n",
        "\n",
        "plt.bar(br3, citations_50, color ='b', width = barWidth,\n",
        "\t\tedgecolor ='grey', label ='citations_50.txt')\n",
        "\n",
        "plt.bar(br4, citations_1, color ='yellow', width = barWidth,\n",
        "\t\tedgecolor ='grey', label ='citations_1.txt')\n",
        "\n",
        "# Adding Xticks\n",
        "plt.xlabel('Algorithms Names', fontweight ='bold', fontsize = 15)\n",
        "plt.ylabel('Execution time [s] in log scale', fontweight ='bold', fontsize = 15)\n",
        "# Setting a logarithmic scale for y-axis\n",
        "x = results1[\"citations_500.txt\"]\n",
        "\n",
        "ticks = []\n",
        "for k in x.keys():\n",
        "  if k:\n",
        "      ticks.append(k)\n",
        "plt.xticks([r + barWidth for r in range(len(br1))],ticks)\n",
        "plt.yscale('log')\n",
        "plt.ylim(ymin= pow(10,-3))\n",
        "plt.legend()\n",
        "plt.show()"
      ],
      "metadata": {
        "id": "ZSzcqEunvW24"
      },
      "execution_count": null,
      "outputs": []
    }
  ],
  "metadata": {
    "colab": {
      "collapsed_sections": [],
      "name": "Page Rank on Dataproc ",
      "provenance": [],
      "include_colab_link": true
    },
    "kernelspec": {
      "display_name": "Python 3",
      "name": "python3"
    }
  },
  "nbformat": 4,
  "nbformat_minor": 0
}