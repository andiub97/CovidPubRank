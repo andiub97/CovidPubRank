{
  "cells": [
    {
      "cell_type": "markdown",
      "metadata": {
        "id": "view-in-github",
        "colab_type": "text"
      },
      "source": [
        "<a href=\"https://colab.research.google.com/github/andiub97/CovidPubRank/blob/master/CovidPageRank.ipynb\" target=\"_parent\"><img src=\"https://colab.research.google.com/assets/colab-badge.svg\" alt=\"Open In Colab\"/></a>"
      ]
    },
    {
      "cell_type": "markdown",
      "metadata": {
        "id": "NAM6vyXAfVUj"
      },
      "source": [
        "# Page Ranking Algorithms on Google Cloud Dataproc\n",
        "\n",
        "- Use the [Cloud Resource Manager](https://cloud.google.com/resource-manager) to create a project if you do not already have one.\n",
        "- [Enable billing](https://support.google.com/cloud/answer/6293499#enable-billing) for the project.\n",
        "- See [Google Cloud Storage (GCS) Documentation](https://cloud.google.com/storage/) for more info.\n"
      ]
    },
    {
      "cell_type": "code",
      "execution_count": null,
      "metadata": {
        "id": "LADpx7LReOMk"
      },
      "outputs": [],
      "source": [
        "from google.colab import auth\n",
        "auth.authenticate_user()\n",
        "\n",
        "# https://cloud.google.com/resource-manager/docs/creating-managing-projects\n",
        "project_id = '[scalaproject-343716]'\n",
        "!gcloud config set project {'scalaproject-343716'}"
      ]
    },
    {
      "cell_type": "code",
      "source": [
        "f = open('./sample_data/citations_500.txt', 'r+')\n",
        "\n",
        "lines = f.read()\n",
        "content = lines.split(\"\\n\")\n",
        "edges = []\n",
        "\n",
        "for i in content:\n",
        "  if i.startswith(\"e \"):\n",
        "    edges.append(i)\n",
        "\n",
        "f.write(\"\\n\")\n",
        "c = 0\n",
        "while c < 17500:\n",
        "  f.writelines(\"{}\\n\".format(x) for x in edges)\n",
        "  c += 1\n",
        "\n",
        "f.close()"
      ],
      "metadata": {
        "id": "MB541JexBrpP"
      },
      "execution_count": null,
      "outputs": []
    },
    {
      "cell_type": "markdown",
      "source": [
        "## Send file to Google Cloud Bucket"
      ],
      "metadata": {
        "id": "oWnhIirNq0ft"
      }
    },
    {
      "cell_type": "code",
      "execution_count": null,
      "metadata": {
        "id": "f8LMNz9SR0Iz"
      },
      "outputs": [],
      "source": [
        "import uuid\n",
        "\n",
        "# Make a unique bucket to which we'll upload the file.\n",
        "# (GCS buckets are part of a single global namespace.)\n",
        "bucket_name = 'colab-sample-bucket-' + str(uuid.uuid1())\n",
        "\n",
        "# Full reference: https://cloud.google.com/storage/docs/gsutil/commands/mb\n",
        "!gsutil mb -l us-central1 -b on gs://{bucket_name}\n",
        "\n",
        "# Copy the file to our new bucket.\n",
        "# Full reference: https://cloud.google.com/storage/docs/gsutil/commands/cp\n",
        "!gsutil cp sample_data/citations_500.txt gs://{bucket_name}/\n",
        "  \n",
        "# Finally, dump the contents of our newly copied file to make sure everything worked.\n",
        "#!gsutil cat gs://{bucket_name}/citations_100.txt"
      ]
    },
    {
      "cell_type": "markdown",
      "source": [
        "## Create Dataproc cluster with specified parameters"
      ],
      "metadata": {
        "id": "0DDL29lqtkxu"
      }
    },
    {
      "cell_type": "code",
      "source": [
        "!gcloud dataproc clusters create 3workers-cluster \\\n",
        "  --region us-central1 \\\n",
        "  --zone us-central1-a \\\n",
        "  --master-machine-type n1-standard-4 \\\n",
        "  --master-boot-disk-size 600 \\\n",
        "  --worker-machine-type n1-standard-4 \\\n",
        "  --num-workers 3 \\\n",
        "  --worker-boot-disk-size 600"
      ],
      "metadata": {
        "id": "Me2OxQ-i6rf5"
      },
      "execution_count": null,
      "outputs": []
    },
    {
      "cell_type": "markdown",
      "source": [
        "# Weak Scalabity \n",
        "### Send Dataproc jobs to single-node cluster for all datasets"
      ],
      "metadata": {
        "id": "dGeuyUSetuHj"
      }
    },
    {
      "cell_type": "code",
      "source": [
        "!gcloud dataproc clusters create single-node-cluster \\\n",
        "  --region us-central1 \\\n",
        "  --zone us-central1-a \\\n",
        "  --single-node "
      ],
      "metadata": {
        "id": "K1k9UtnlORQ-"
      },
      "execution_count": null,
      "outputs": []
    },
    {
      "cell_type": "code",
      "source": [
        "!gcloud dataproc jobs submit spark \\\n",
        "    --cluster=single-node-cluster \\\n",
        "    --region=us-central1 \\\n",
        "    --jar=gs://covid_program/covidpubrank_2.12-0.1.0-SNAPSHOT.jar \\\n",
        "    -- \"allAlgorithms\" \"gs://citations_bucket/citations_500.txt\" \"gs://ranking_output_bucket/single-node/distributed\""
      ],
      "metadata": {
        "id": "dVfeGTQgMuyl"
      },
      "execution_count": null,
      "outputs": []
    },
    {
      "cell_type": "code",
      "source": [
        "!gcloud dataproc jobs submit spark \\\n",
        "    --cluster=single-node-cluster \\\n",
        "    --region=us-central1 \\\n",
        "    --jar=gs://covid_program/covidpubrank_2.12-0.1.0-SNAPSHOT.jar \\\n",
        "    -- \"allAlgorithms\" \"gs://citations_bucket/citations_100.txt\" \"gs://ranking_output_bucket/single-node/notDistributed\""
      ],
      "metadata": {
        "id": "LX4E6XClzOyI"
      },
      "execution_count": null,
      "outputs": []
    },
    {
      "cell_type": "code",
      "source": [
        "!gcloud dataproc jobs submit spark \\\n",
        "    --cluster=single-node-cluster \\\n",
        "    --region=us-central1 \\\n",
        "    --jar=gs://covid_program/covidpubrank_2.12-0.1.0-SNAPSHOT.jar \\\n",
        "    -- \"allAlgorithms\" \"gs://citations_bucket/citations_50.txt\" \"gs://ranking_output_bucket/single-node/notDistributed\""
      ],
      "metadata": {
        "id": "-CZI9CYPzWkM"
      },
      "execution_count": null,
      "outputs": []
    },
    {
      "cell_type": "code",
      "source": [
        "!gcloud dataproc jobs submit spark \\\n",
        "    --cluster=single-node-cluster \\\n",
        "    --region=us-central1 \\\n",
        "    --jar=gs://covid_program/covidpubrank_2.12-0.1.0-SNAPSHOT.jar \\\n",
        "    -- \"allAlgorithms\" \"gs://citations_bucket/citations_10.txt\" \"gs://ranking_output_bucket/output1\""
      ],
      "metadata": {
        "id": "BYhQ5oyN9ZU-"
      },
      "execution_count": null,
      "outputs": []
    },
    {
      "cell_type": "markdown",
      "source": [
        "### Delete cluster"
      ],
      "metadata": {
        "id": "-_SA-f6Jt0hr"
      }
    },
    {
      "cell_type": "code",
      "source": [
        "!gcloud dataproc clusters delete single-node-cluster \\\n",
        "    --region=us-central1"
      ],
      "metadata": {
        "id": "jx5e1dZTOf7q"
      },
      "execution_count": null,
      "outputs": []
    },
    {
      "cell_type": "markdown",
      "source": [
        "# Strong scalability\n",
        "1. Send Dataproc jobs to 2-node cluster for \"citations_1.txt\" dataset"
      ],
      "metadata": {
        "id": "ZAR03op7MCaI"
      }
    },
    {
      "cell_type": "code",
      "source": [
        "!gcloud dataproc clusters create 2workers-cluster \\\n",
        "  --region us-central1 \\\n",
        "  --zone us-central1-a \\\n",
        "  --master-machine-type n1-standard-4 \\\n",
        "  --master-boot-disk-size 600 \\\n",
        "  --worker-machine-type n1-standard-4 \\\n",
        "  --num-workers 2 \\\n",
        "  --worker-boot-disk-size 600"
      ],
      "metadata": {
        "id": "1co1S-AQNczk"
      },
      "execution_count": null,
      "outputs": []
    },
    {
      "cell_type": "code",
      "source": [
        "!gcloud dataproc jobs submit spark \\\n",
        "    --cluster=2workers-cluster \\\n",
        "    --region=us-central1 \\\n",
        "    --jar=gs://covid_program/covidpubrank_2.12-0.1.0-SNAPSHOT.jar \\\n",
        "    -- \"DistributedAlgorithms\" \"gs://citations_bucket/citations_1.txt\" \"gs://ranking_output_bucket/2workers/distributed\""
      ],
      "metadata": {
        "id": "DHZ2iol7NMsR"
      },
      "execution_count": null,
      "outputs": []
    },
    {
      "cell_type": "markdown",
      "source": [
        "Delete cluster"
      ],
      "metadata": {
        "id": "mZF8ijj_Or6l"
      }
    },
    {
      "cell_type": "code",
      "source": [
        "!gcloud dataproc clusters delete 2workers-cluster \\\n",
        "    --region=us-central1"
      ],
      "metadata": {
        "id": "fMKvkvnlOrUS"
      },
      "execution_count": null,
      "outputs": []
    },
    {
      "cell_type": "markdown",
      "source": [
        "2. Send Dataproc jobs to 4-node cluster for \"citations_1.txt\" dataset"
      ],
      "metadata": {
        "id": "UNanDhvENJsY"
      }
    },
    {
      "cell_type": "code",
      "source": [
        "!gcloud dataproc clusters create 4workers-cluster \\\n",
        "  --region us-central1 \\\n",
        "  --zone us-central1-a \\\n",
        "  --master-machine-type n1-standard-4 \\\n",
        "  --master-boot-disk-size 600 \\\n",
        "  --worker-machine-type n1-standard-4 \\\n",
        "  --num-workers 4 \\\n",
        "  --worker-boot-disk-size 600"
      ],
      "metadata": {
        "id": "e1gfySgoPAFw"
      },
      "execution_count": null,
      "outputs": []
    },
    {
      "cell_type": "code",
      "source": [
        "!gcloud dataproc jobs submit spark \\\n",
        "    --cluster=4workers-cluster \\\n",
        "    --region=us-central1 \\\n",
        "    --jar=gs://covid_program/covidpubrank_2.12-0.1.0-SNAPSHOT.jar \\\n",
        "    -- \"DistributedAlgorithms\" \"gs://citations_bucket/citations_1.txt\" \"gs://ranking_output_bucket/4workers/distributed\""
      ],
      "metadata": {
        "id": "LvQqWqh2O0u_"
      },
      "execution_count": null,
      "outputs": []
    },
    {
      "cell_type": "markdown",
      "source": [
        "Delete cluster"
      ],
      "metadata": {
        "id": "cPOebsqnQ7jE"
      }
    },
    {
      "cell_type": "code",
      "source": [
        "!gcloud dataproc clusters delete 4workers-cluster \\\n",
        "    --region=us-central1"
      ],
      "metadata": {
        "id": "TENg3A1hMeRR"
      },
      "execution_count": null,
      "outputs": []
    },
    {
      "cell_type": "markdown",
      "source": [
        "Delete jobs"
      ],
      "metadata": {
        "id": "ivPFG6sNSNSE"
      }
    },
    {
      "cell_type": "code",
      "source": [
        ""
      ],
      "metadata": {
        "id": "Yt3t9B_vSSIx"
      },
      "execution_count": null,
      "outputs": []
    },
    {
      "cell_type": "markdown",
      "source": [
        "## Get job execution output, in other words ranking algorithms' execution time"
      ],
      "metadata": {
        "id": "rwlbBc0zt30Z"
      }
    },
    {
      "cell_type": "code",
      "source": [
        "# Create output directory\n",
        "mkdir ./sample_data/output\n",
        "\n",
        "# Download the file from a given Google Cloud Storage bucket.\n",
        "!gsutil cp gs://ranking_output_bucket/ ./sample_data/output"
      ],
      "metadata": {
        "id": "Z533U7Q_L2vS"
      },
      "execution_count": null,
      "outputs": []
    },
    {
      "cell_type": "code",
      "source": [
        "import matplotlib.pyplot as plt\n",
        "\n",
        "names = []\n",
        "times = []\n",
        "chars = \"(),\\n,\"\n",
        "\n",
        "f = open('/content/sample_data/part-00000','r+')\n",
        "f1 = open('/content/sample_data/part-00000_1','r+')\n",
        "\n",
        "testo=f.read()\n",
        "f1.write('\\n')\n",
        "f1.write(testo)\n",
        "\n",
        "for row in f1:\n",
        "    row = row.replace(chars,\"\")\n",
        "    row = row.split(',')\n",
        "    names.append(row[0])\n",
        "    row[1] = row[1].replace(\")\", \"\")\n",
        "    times.append(float(row[1]))\n",
        "\n",
        "f.close() \n",
        "f1.close()\n",
        "plt.bar(names, times, color = 'b', label = 'Results')\n",
        "\n",
        "plt.xlabel('Algorithm Name', fontsize = 12)\n",
        "plt.ylabel('Time in sec.', fontsize = 12)\n",
        "\n",
        "plt.title('Algorithms performance', fontsize = 20)\n",
        "\n",
        "fig1=plt.gcf()\n",
        "fig1.set_figwidth(10)\n",
        "fig1.set_figheight(10)\n",
        "plt.show()\n",
        "fig1.savefig('result.png')"
      ],
      "metadata": {
        "id": "MkUKbaYDHR0o"
      },
      "execution_count": null,
      "outputs": []
    }
  ],
  "metadata": {
    "colab": {
      "collapsed_sections": [],
      "name": "Page Rank on Dataproc",
      "provenance": [],
      "include_colab_link": true
    },
    "kernelspec": {
      "display_name": "Python 3",
      "name": "python3"
    }
  },
  "nbformat": 4,
  "nbformat_minor": 0
}