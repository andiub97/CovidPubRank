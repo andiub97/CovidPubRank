{
  "cells": [
    {
      "cell_type": "markdown",
      "metadata": {
        "id": "view-in-github",
        "colab_type": "text"
      },
      "source": [
        "<a href=\"https://colab.research.google.com/github/andiub97/CovidPubRank/blob/master/CovidPageRank.ipynb\" target=\"_parent\"><img src=\"https://colab.research.google.com/assets/colab-badge.svg\" alt=\"Open In Colab\"/></a>"
      ]
    },
    {
      "cell_type": "markdown",
      "metadata": {
        "id": "NAM6vyXAfVUj"
      },
      "source": [
        "# Page Ranking Algorithms on Google Cloud Dataproc\n",
        "\n",
        "- Use the [Cloud Resource Manager](https://cloud.google.com/resource-manager) to create a project if you do not already have one.\n",
        "- [Enable billing](https://support.google.com/cloud/answer/6293499#enable-billing) for the project.\n",
        "- See [Google Cloud Storage (GCS) Documentation](https://cloud.google.com/storage/) for more info.\n"
      ]
    },
    {
      "cell_type": "code",
      "execution_count": null,
      "metadata": {
        "id": "LADpx7LReOMk",
        "colab": {
          "base_uri": "https://localhost:8080/"
        },
        "outputId": "8c5d503f-7d54-4703-b80a-798964663fdd"
      },
      "outputs": [
        {
          "output_type": "stream",
          "name": "stdout",
          "text": [
            "Updated property [core/project].\n"
          ]
        }
      ],
      "source": [
        "from google.colab import auth\n",
        "auth.authenticate_user()\n",
        "\n",
        "# https://cloud.google.com/resource-manager/docs/creating-managing-projects\n",
        "project_id = '[scalaproject-343716]'\n",
        "!gcloud config set project {'scalaproject-343716'}"
      ]
    },
    {
      "cell_type": "code",
      "source": [
        "f = open('./sample_data/citations_500.txt', 'r+')\n",
        "\n",
        "lines = f.read()\n",
        "content = lines.split(\"\\n\")\n",
        "edges = []\n",
        "\n",
        "for i in content:\n",
        "  if i.startswith(\"e \"):\n",
        "    edges.append(i)\n",
        "\n",
        "f.write(\"\\n\")\n",
        "c = 0\n",
        "while c < 17500:\n",
        "  f.writelines(\"{}\\n\".format(x) for x in edges)\n",
        "  c += 1\n",
        "\n",
        "f.close()"
      ],
      "metadata": {
        "id": "MB541JexBrpP"
      },
      "execution_count": null,
      "outputs": []
    },
    {
      "cell_type": "markdown",
      "source": [
        "## Send file to Google Cloud Bucket"
      ],
      "metadata": {
        "id": "oWnhIirNq0ft"
      }
    },
    {
      "cell_type": "code",
      "execution_count": null,
      "metadata": {
        "id": "f8LMNz9SR0Iz",
        "colab": {
          "base_uri": "https://localhost:8080/"
        },
        "outputId": "2ca10c02-5161-424a-8f12-9ebaa2b1eb23"
      },
      "outputs": [
        {
          "output_type": "stream",
          "name": "stdout",
          "text": [
            "Creating gs://colab-sample-bucket-1effdcce-ad22-11ec-b67d-0242ac1c0002/...\n",
            "Copying file://sample_data/citations_500.txt [Content-Type=text/plain]...\n",
            "==> NOTE: You are uploading one or more large file(s), which would run\n",
            "significantly faster if you enable parallel composite uploads. This\n",
            "feature can be enabled by editing the\n",
            "\"parallel_composite_upload_threshold\" value in your .boto\n",
            "configuration file. However, note that if you do this large files will\n",
            "be uploaded as `composite objects\n",
            "<https://cloud.google.com/storage/docs/composite-objects>`_,which\n",
            "means that any user who downloads such objects will need to have a\n",
            "compiled crcmod installed (see \"gsutil help crcmod\"). This is because\n",
            "without a compiled crcmod, computing checksums on composite objects is\n",
            "so slow that gsutil disables downloads of composite objects.\n",
            "\n",
            "| [1 files][472.8 MiB/472.8 MiB]                                                \n",
            "Operation completed over 1 objects/472.8 MiB.                                    \n"
          ]
        }
      ],
      "source": [
        "import uuid\n",
        "\n",
        "# Make a unique bucket to which we'll upload the file.\n",
        "# (GCS buckets are part of a single global namespace.)\n",
        "bucket_name = 'colab-sample-bucket-' + str(uuid.uuid1())\n",
        "\n",
        "# Full reference: https://cloud.google.com/storage/docs/gsutil/commands/mb\n",
        "!gsutil mb -l us-central1 -b on gs://{bucket_name}\n",
        "\n",
        "# Copy the file to our new bucket.\n",
        "# Full reference: https://cloud.google.com/storage/docs/gsutil/commands/cp\n",
        "!gsutil cp sample_data/citations_500.txt gs://{bucket_name}/\n",
        "  \n",
        "# Finally, dump the contents of our newly copied file to make sure everything worked.\n",
        "#!gsutil cat gs://{bucket_name}/citations_100.txt"
      ]
    },
    {
      "cell_type": "markdown",
      "source": [
        "## Create Dataproc cluster with specified parameters"
      ],
      "metadata": {
        "id": "0DDL29lqtkxu"
      }
    },
    {
      "cell_type": "code",
      "source": [
        "!gcloud dataproc clusters create single-node-cluster \\\n",
        "  --region us-central1 \\\n",
        "  --zone us-central1-a \\\n",
        "  --single-node "
      ],
      "metadata": {
        "id": "K1k9UtnlORQ-",
        "colab": {
          "base_uri": "https://localhost:8080/"
        },
        "outputId": "f575a443-40cf-4657-f20b-4a5f410d34f2"
      },
      "execution_count": null,
      "outputs": [
        {
          "output_type": "stream",
          "name": "stdout",
          "text": [
            "Waiting on operation [projects/scalaproject-343716/regions/us-central1/operations/6e2b44b2-31ee-37d7-832a-aaa7ed9e38a4].\n",
            "\n",
            "\u001b[1;33mWARNING:\u001b[0m No image specified. Using the default image version. It is recommended to select a specific image version in production, as the default image version may change at any time.\n",
            "Created [https://dataproc.googleapis.com/v1/projects/scalaproject-343716/regions/us-central1/clusters/single-node-cluster] Cluster placed in zone [us-central1-a].\n"
          ]
        }
      ]
    },
    {
      "cell_type": "code",
      "source": [
        "!gcloud dataproc clusters create standard-cluster \\\n",
        "  --region us-central1 \\\n",
        "  --zone us-central1-a \\\n",
        "  --master-machine-type n1-standard-4 \\\n",
        "  --master-boot-disk-size 600 \\\n",
        "  --worker-machine-type n1-standard-4 \\\n",
        "  --num-workers 4 \\\n",
        "  --worker-boot-disk-size 600"
      ],
      "metadata": {
        "colab": {
          "base_uri": "https://localhost:8080/"
        },
        "id": "Me2OxQ-i6rf5",
        "outputId": "653324b8-7b6d-4357-b450-0fffc092296d"
      },
      "execution_count": null,
      "outputs": [
        {
          "output_type": "stream",
          "name": "stdout",
          "text": [
            "Waiting on operation [projects/scalaproject-343716/regions/us-central1/operations/0d611603-cbaa-341d-bf38-7808814c3845].\n",
            "\n",
            "\u001b[1;33mWARNING:\u001b[0m No image specified. Using the default image version. It is recommended to select a specific image version in production, as the default image version may change at any time.\n",
            "\u001b[1;33mWARNING:\u001b[0m For PD-Standard without local SSDs, we strongly recommend provisioning 1TB or larger to ensure consistently high I/O performance. See https://cloud.google.com/compute/docs/disks/performance for information on disk I/O performance.\n",
            "Created [https://dataproc.googleapis.com/v1/projects/scalaproject-343716/regions/us-central1/clusters/standard-cluster] Cluster placed in zone [us-central1-a].\n"
          ]
        }
      ]
    },
    {
      "cell_type": "markdown",
      "source": [
        "## Send Dataproc jobs with specified parameters"
      ],
      "metadata": {
        "id": "dGeuyUSetuHj"
      }
    },
    {
      "cell_type": "code",
      "source": [
        "!gcloud dataproc jobs submit spark \\\n",
        "    --cluster=single-node-cluster \\\n",
        "    --region=us-central1 \\\n",
        "    --jar=gs://covid_program/covidpubrank_2.12-0.1.0-SNAPSHOT.jar \\\n",
        "    -- \"allAlgorithms\" \"gs://citations_bucket/citations_500.txt\" \"gs://ranking_output_bucket/single-node/distributed\""
      ],
      "metadata": {
        "id": "dVfeGTQgMuyl"
      },
      "execution_count": null,
      "outputs": []
    },
    {
      "cell_type": "code",
      "source": [
        "!gcloud dataproc jobs submit spark \\\n",
        "    --cluster=single-node-cluster \\\n",
        "    --region=us-central1 \\\n",
        "    --jar=gs://covid_program/covidpubrank_2.12-0.1.0-SNAPSHOT.jar \\\n",
        "    -- \"allAlgorithms\" \"gs://citations_bucket/citations_100.txt\" \"gs://ranking_output_bucket/single-node/notDistributed\""
      ],
      "metadata": {
        "id": "LX4E6XClzOyI"
      },
      "execution_count": null,
      "outputs": []
    },
    {
      "cell_type": "code",
      "source": [
        "!gcloud dataproc jobs submit spark \\\n",
        "    --cluster=single-node-cluster \\\n",
        "    --region=us-central1 \\\n",
        "    --jar=gs://covid_program/covidpubrank_2.12-0.1.0-SNAPSHOT.jar \\\n",
        "    -- \"allAlgorithms\" \"gs://citations_bucket/citations_50.txt\" \"gs://ranking_output_bucket/single-node/notDistributed\""
      ],
      "metadata": {
        "id": "-CZI9CYPzWkM"
      },
      "execution_count": null,
      "outputs": []
    },
    {
      "cell_type": "code",
      "source": [
        "!gcloud dataproc jobs submit spark \\\n",
        "    --cluster=standard-cluster \\\n",
        "    --region=us-central1 \\\n",
        "    --jar=gs://covid_program/covidpubrank_2.12-0.1.0-SNAPSHOT.jar \\\n",
        "    -- \"allAlgorithms\" \"gs://citations_bucket/citations_10.txt\" \"gs://ranking_output_bucket/output1\""
      ],
      "metadata": {
        "colab": {
          "base_uri": "https://localhost:8080/"
        },
        "id": "BYhQ5oyN9ZU-",
        "outputId": "7a175406-1797-4085-878c-6453f7afe147"
      },
      "execution_count": null,
      "outputs": [
        {
          "output_type": "stream",
          "name": "stdout",
          "text": [
            "Job [1fb6936e75d647a684ec5be38946b501] submitted.\n",
            "Waiting for job output...\n",
            "22/03/28 11:02:51 WARN org.apache.spark.SparkConf: The configuration key 'spark.yarn.executor.memoryOverhead' has been deprecated as of Spark 2.3 and may be removed in the future. Please use the new key 'spark.executor.memoryOverhead' instead.\n",
            "22/03/28 11:02:52 INFO org.apache.spark.SparkEnv: Registering MapOutputTracker\n",
            "22/03/28 11:02:52 INFO org.apache.spark.SparkEnv: Registering BlockManagerMaster\n",
            "22/03/28 11:02:52 INFO org.apache.spark.SparkEnv: Registering BlockManagerMasterHeartbeat\n",
            "22/03/28 11:02:52 INFO org.apache.spark.SparkEnv: Registering OutputCommitCoordinator\n",
            "22/03/28 11:02:52 INFO org.sparkproject.jetty.util.log: Logging initialized @3631ms to org.sparkproject.jetty.util.log.Slf4jLog\n",
            "22/03/28 11:02:52 INFO org.sparkproject.jetty.server.Server: jetty-9.4.40.v20210413; built: 2021-04-13T20:42:42.668Z; git: b881a572662e1943a14ae12e7e1207989f218b74; jvm 1.8.0_322-b06\n",
            "22/03/28 11:02:52 INFO org.sparkproject.jetty.server.Server: Started @3773ms\n",
            "22/03/28 11:02:52 INFO org.sparkproject.jetty.server.AbstractConnector: Started ServerConnector@7cf162bc{HTTP/1.1, (http/1.1)}{0.0.0.0:41765}\n",
            "22/03/28 11:02:54 INFO com.google.cloud.hadoop.repackaged.gcs.com.google.cloud.hadoop.gcsio.GoogleCloudStorageImpl: Ignoring exception of type GoogleJsonResponseException; verified object already exists with desired state.\n",
            "Using algorithm DistributedAlgorithms\n",
            "Loading graph from gs://citations_bucket/citations_500.txt\n",
            "Loaded 31 nodes.\n",
            "Loaded 30 edges.\n",
            "ranking.DistributedPageRank\n",
            "ranking.ParallelPageRankLibrary\n",
            "22/03/28 11:03:00 WARN org.apache.spark.storage.BlockManager: Block rdd_77_6 already exists on this machine; not re-adding it\n",
            "22/03/28 11:03:00 WARN org.apache.spark.storage.BlockManager: Block rdd_77_11 already exists on this machine; not re-adding it\n",
            "ranking.DistributedPageRank\n",
            "1.692425808\n",
            "ranking.ParallelPageRankLibrary\n",
            "5.34147296\n",
            "(Isolation of a novel coronavirus from a man with pneumonia in Saudi Arabia,1,0.1282258)\n",
            "(Clinical Characteristics of Patients with Severe Pneumonia Caused by the 2019 Novel Coronavirus in Wuhan, China Title: The clinical characteristics of 2019 novel coronavirus severe pneumonia *Corresponding Author,0,0.0048387097)\n",
            "(Increasing the translation of mouse models of MERS coronavirus pathogenesis through kinetic hematological analysis,24,0.0048387097)\n",
            "Job [1fb6936e75d647a684ec5be38946b501] finished successfully.\n",
            "done: true\n",
            "driverControlFilesUri: gs://dataproc-staging-us-central1-471698680339-p5a11q0m/google-cloud-dataproc-metainfo/e13997fa-6c4f-4577-b81d-1ab29f10cca7/jobs/1fb6936e75d647a684ec5be38946b501/\n",
            "driverOutputResourceUri: gs://dataproc-staging-us-central1-471698680339-p5a11q0m/google-cloud-dataproc-metainfo/e13997fa-6c4f-4577-b81d-1ab29f10cca7/jobs/1fb6936e75d647a684ec5be38946b501/driveroutput\n",
            "jobUuid: eb47501a-59c3-39fd-9517-ec6267d4d11c\n",
            "placement:\n",
            "  clusterName: standard-cluster\n",
            "  clusterUuid: e13997fa-6c4f-4577-b81d-1ab29f10cca7\n",
            "reference:\n",
            "  jobId: 1fb6936e75d647a684ec5be38946b501\n",
            "  projectId: scalaproject-343716\n",
            "sparkJob:\n",
            "  args:\n",
            "  - DistributedAlgorithms\n",
            "  - gs://citations_bucket/citations_500.txt\n",
            "  - gs://ranking_output_bucket/output1\n",
            "  mainJarFileUri: gs://covid_program/covidpubrank_2.12-0.1.0-SNAPSHOT.jar\n",
            "status:\n",
            "  state: DONE\n",
            "  stateStartTime: '2022-03-28T11:03:07.776958Z'\n",
            "statusHistory:\n",
            "- state: PENDING\n",
            "  stateStartTime: '2022-03-28T11:02:47.250121Z'\n",
            "- state: SETUP_DONE\n",
            "  stateStartTime: '2022-03-28T11:02:47.281124Z'\n",
            "- details: Agent reported job success\n",
            "  state: RUNNING\n",
            "  stateStartTime: '2022-03-28T11:02:47.680064Z'\n"
          ]
        }
      ]
    },
    {
      "cell_type": "markdown",
      "source": [
        "## Install dependencies for showing algorithms' execution time"
      ],
      "metadata": {
        "id": "rl9mr7iIHTJ4"
      }
    },
    {
      "cell_type": "markdown",
      "source": [
        "## Get job execution output, in other words ranking algorithms' execution time"
      ],
      "metadata": {
        "id": "rwlbBc0zt30Z"
      }
    },
    {
      "cell_type": "code",
      "source": [
        "# Download the file from a given Google Cloud Storage bucket.\n",
        "!gsutil cp gs://ranking_output_bucket/output1/part-00000 ./sample_data/part-00000_1"
      ],
      "metadata": {
        "id": "Z533U7Q_L2vS",
        "outputId": "12346588-586e-44d9-cd1c-c8aff139be4d",
        "colab": {
          "base_uri": "https://localhost:8080/"
        }
      },
      "execution_count": null,
      "outputs": [
        {
          "output_type": "stream",
          "name": "stdout",
          "text": [
            "Copying gs://ranking_output_bucket/output1/part-00000...\n",
            "/ [1 files][   87.0 B/   87.0 B]                                                \n",
            "Operation completed over 1 objects/87.0 B.                                       \n"
          ]
        }
      ]
    },
    {
      "cell_type": "code",
      "source": [
        "!pip install matplotlib"
      ],
      "metadata": {
        "colab": {
          "base_uri": "https://localhost:8080/"
        },
        "id": "GzGjintoHOqk",
        "outputId": "2e8e39d3-e7cc-4c12-8905-f6aa36c08037"
      },
      "execution_count": null,
      "outputs": [
        {
          "output_type": "stream",
          "name": "stdout",
          "text": [
            "Requirement already satisfied: matplotlib in /usr/local/lib/python3.7/dist-packages (3.2.2)\n",
            "Requirement already satisfied: kiwisolver>=1.0.1 in /usr/local/lib/python3.7/dist-packages (from matplotlib) (1.4.0)\n",
            "Requirement already satisfied: cycler>=0.10 in /usr/local/lib/python3.7/dist-packages (from matplotlib) (0.11.0)\n",
            "Requirement already satisfied: numpy>=1.11 in /usr/local/lib/python3.7/dist-packages (from matplotlib) (1.21.5)\n",
            "Requirement already satisfied: pyparsing!=2.0.4,!=2.1.2,!=2.1.6,>=2.0.1 in /usr/local/lib/python3.7/dist-packages (from matplotlib) (3.0.7)\n",
            "Requirement already satisfied: python-dateutil>=2.1 in /usr/local/lib/python3.7/dist-packages (from matplotlib) (2.8.2)\n",
            "Requirement already satisfied: typing-extensions in /usr/local/lib/python3.7/dist-packages (from kiwisolver>=1.0.1->matplotlib) (3.10.0.2)\n",
            "Requirement already satisfied: six>=1.5 in /usr/local/lib/python3.7/dist-packages (from python-dateutil>=2.1->matplotlib) (1.15.0)\n"
          ]
        }
      ]
    },
    {
      "cell_type": "markdown",
      "source": [
        ""
      ],
      "metadata": {
        "id": "La1ffKUyHha5"
      }
    },
    {
      "cell_type": "code",
      "source": [
        "import matplotlib.pyplot as plt\n",
        "\n",
        "names = []\n",
        "times = []\n",
        "chars = \"(),\\n,\"\n",
        "\n",
        "f = open('/content/sample_data/part-00000','r+')\n",
        "f1 = open('/content/sample_data/part-00000_1','r+')\n",
        "\n",
        "testo=f.read()\n",
        "f1.write('\\n')\n",
        "f1.write(testo)\n",
        "\n",
        "for row in f1:\n",
        "    row = row.replace(chars,\"\")\n",
        "    row = row.split(',')\n",
        "    names.append(row[0])\n",
        "    row[1] = row[1].replace(\")\", \"\")\n",
        "    times.append(float(row[1]))\n",
        "\n",
        "f.close() \n",
        "f1.close()\n",
        "plt.bar(names, times, color = 'b', label = 'Results')\n",
        "\n",
        "plt.xlabel('Algorithm Name', fontsize = 12)\n",
        "plt.ylabel('Time in sec.', fontsize = 12)\n",
        "\n",
        "plt.title('Algorithms performance', fontsize = 20)\n",
        "\n",
        "fig1=plt.gcf()\n",
        "fig1.set_figwidth(10)\n",
        "fig1.set_figheight(10)\n",
        "plt.show()\n",
        "fig1.savefig('result.png')"
      ],
      "metadata": {
        "colab": {
          "base_uri": "https://localhost:8080/",
          "height": 717
        },
        "id": "MkUKbaYDHR0o",
        "outputId": "3d55979a-a63f-426e-c2cd-7c9667d04b43"
      },
      "execution_count": null,
      "outputs": [
        {
          "output_type": "stream",
          "name": "stdout",
          "text": [
            "['(ranking.PageRank', '0.089681\\n']\n",
            "['(ranking.PageRankLibrary', '4.969248\\n']\n",
            "['(ranking.DistributedPageRank', '30.589681\\n']\n",
            "['(ranking.ParallelPageRankLibrary', '100.089651']\n",
            "[0.089681, 4.969248, 30.589681, 100.089651]\n"
          ]
        },
        {
          "output_type": "display_data",
          "data": {
            "text/plain": [
              "<Figure size 720x720 with 1 Axes>"
            ],
            "image/png": "[encoded data removed]"
          },
          "metadata": {
            "needs_background": "light"
          }
        }
      ]
    },
    {
      "cell_type": "markdown",
      "source": [
        "## Delete cluster"
      ],
      "metadata": {
        "id": "-_SA-f6Jt0hr"
      }
    },
    {
      "cell_type": "code",
      "source": [
        "!gcloud dataproc clusters delete single-node-cluster \\\n",
        "    --region=us-central1"
      ],
      "metadata": {
        "id": "jx5e1dZTOf7q",
        "outputId": "9b3a6d91-ec8d-47af-bd28-cebd83febd0f",
        "colab": {
          "base_uri": "https://localhost:8080/"
        }
      },
      "execution_count": null,
      "outputs": [
        {
          "output_type": "stream",
          "name": "stdout",
          "text": [
            "The cluster 'single-node-cluster' and all attached disks will be deleted.\n",
            "\n",
            "Do you want to continue (Y/n)?  Y\n",
            "\n",
            "Waiting on operation [projects/scalaproject-343716/regions/us-central1/operations/76aedb1c-02d4-3143-a900-5492b5024b84].\n",
            "Deleted [https://dataproc.googleapis.com/v1/projects/scalaproject-343716/regions/us-central1/clusters/single-node-cluster].\n"
          ]
        }
      ]
    },
    {
      "cell_type": "code",
      "source": [
        "!gcloud dataproc clusters delete standard-cluster \\\n",
        "    --region=us-central1"
      ],
      "metadata": {
        "colab": {
          "base_uri": "https://localhost:8080/"
        },
        "id": "uzI6s5xp9t5Y",
        "outputId": "4011c5b2-c398-4fd0-82cd-b9e6970dc323"
      },
      "execution_count": null,
      "outputs": [
        {
          "output_type": "stream",
          "name": "stdout",
          "text": [
            "The cluster 'standard-cluster' and all attached disks will be deleted.\n",
            "\n",
            "Do you want to continue (Y/n)?  Y\n",
            "\n",
            "Waiting on operation [projects/scalaproject-343716/regions/us-central1/operations/64bd0a10-e89f-3eb0-9cb8-6e678a321c75].\n",
            "Deleted [https://dataproc.googleapis.com/v1/projects/scalaproject-343716/regions/us-central1/clusters/standard-cluster].\n"
          ]
        }
      ]
    }
  ],
  "metadata": {
    "colab": {
      "collapsed_sections": [],
      "name": "Page Rank on Dataproc",
      "provenance": [],
      "include_colab_link": true
    },
    "kernelspec": {
      "display_name": "Python 3",
      "name": "python3"
    }
  },
  "nbformat": 4,
  "nbformat_minor": 0
}